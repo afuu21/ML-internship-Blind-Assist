{
  "nbformat": 4,
  "nbformat_minor": 0,
  "metadata": {
    "colab": {
      "provenance": [],
      "collapsed_sections": []
    },
    "kernelspec": {
      "name": "python3",
      "display_name": "Python 3"
    },
    "accelerator": "GPU"
  },
  "cells": [
    {
      "cell_type": "code",
      "metadata": {
        "id": "fsmJ18SaVM07"
      },
      "source": [
        "import os\n",
        "import zipfile\n",
        "import random\n",
        "import tensorflow as tf\n",
        "from tensorflow.keras.optimizers import RMSprop\n",
        "from tensorflow.keras.preprocessing.image import ImageDataGenerator\n",
        "from shutil import copyfile\n",
        "from google.colab import drive\n"
      ],
      "execution_count": 4,
      "outputs": []
    },
    {
      "cell_type": "code",
      "source": [
        "drive.mount('/content/drive')"
      ],
      "metadata": {
        "id": "_9myGobwbse4",
        "outputId": "eca25715-cac3-41de-8892-93541d725dc4",
        "colab": {
          "base_uri": "https://localhost:8080/"
        }
      },
      "execution_count": 5,
      "outputs": [
        {
          "output_type": "stream",
          "name": "stdout",
          "text": [
            "Mounted at /content/drive\n"
          ]
        }
      ]
    },
    {
      "cell_type": "markdown",
      "metadata": {
        "id": "RSEEWBSIXpBh"
      },
      "source": []
    },
    {
      "cell_type": "code",
      "metadata": {
        "id": "hZydPksyXpfJ"
      },
      "source": [
        "local_zip = '/content/drive/MyDrive/Thai and Indian Currency Dataset256x256.zip'\n",
        "zip_ref = zipfile.ZipFile(local_zip, 'r')\n",
        "zip_ref.extractall('/tmp/')\n",
        "zip_ref.close()\n",
        "!rm -rf '/tmp/Thai and Indian Currency Dataset256x256/Thai Currencies'\n",
        "!rm -rf '/tmp/Thai and Indian Currency Dataset256x256/Indian Currencies/2000/INDIA2000_16.jpg'\n"
      ],
      "execution_count": 6,
      "outputs": []
    },
    {
      "cell_type": "markdown",
      "metadata": {
        "id": "s9Yo4hRIYU-S"
      },
      "source": []
    },
    {
      "cell_type": "code",
      "metadata": {
        "id": "nb-4xGBmYVSl"
      },
      "source": [
        "train_10_New = os.path.join('/tmp/Thai and Indian Currency Dataset256x256/Indian Currencies/10 New')\n",
        "train_10_Old = os.path.join('/tmp/Thai and Indian Currency Dataset256x256/Indian Currencies/10 Old')\n",
        "train_100_New = os.path.join('/tmp/Thai and Indian Currency Dataset256x256/Indian Currencies/100 New')\n",
        "train_100_Old = os.path.join('/tmp/Thai and Indian Currency Dataset256x256/Indian Currencies/100 Old')\n",
        "train_20 = os.path.join('/tmp/Thai and Indian Currency Dataset256x256/Indian Currencies/20')\n",
        "train_200 = os.path.join('/tmp/Thai and Indian Currency Dataset256x256/Indian Currencies/200')\n",
        "train_2000 = os.path.join('/tmp/Thai and Indian Currency Dataset256x256/Indian Currencies/2000')\n",
        "train_50_New = os.path.join('/tmp/Thai and Indian Currency Dataset256x256/Indian Currencies/50 New')\n",
        "train_50_Old = os.path.join('/tmp/Thai and Indian Currency Dataset256x256/Indian Currencies/50 Old')\n",
        "train_500 = os.path.join('/tmp/Thai and Indian Currency Dataset256x256/Indian Currencies/500')"
      ],
      "execution_count": 7,
      "outputs": []
    },
    {
      "cell_type": "markdown",
      "metadata": {
        "id": "QJF15phlYgBX"
      },
      "source": []
    },
    {
      "cell_type": "code",
      "metadata": {
        "id": "oRTmnxVdYgVi",
        "outputId": "a6fdb6e6-8d26-44a2-950c-3f3745e1ff5d",
        "colab": {
          "base_uri": "https://localhost:8080/"
        }
      },
      "source": [
        "print('total training images of 10 New: ', len(os.listdir(train_10_New)))\n",
        "print('total training images of 10 Old: ', len(os.listdir(train_10_Old)))\n",
        "print('total training images of 100 New:', len(os.listdir(train_100_New)))\n",
        "print('total training images of 100 Old:', len(os.listdir(train_100_Old)))\n",
        "print('total training images of 20:     ', len(os.listdir(train_20)))\n",
        "print('total training images of 200:    ', len(os.listdir(train_200)))\n",
        "print('total training images of 2000:   ', len(os.listdir(train_2000)))\n",
        "print('total training images of 50 New: ', len(os.listdir(train_50_New)))\n",
        "print('total training images of 50 Old: ', len(os.listdir(train_50_Old)))\n",
        "print('total training images of 500:    ', len(os.listdir(train_500)))"
      ],
      "execution_count": 8,
      "outputs": [
        {
          "output_type": "stream",
          "name": "stdout",
          "text": [
            "total training images of 10 New:  250\n",
            "total training images of 10 Old:  190\n",
            "total training images of 100 New: 190\n",
            "total training images of 100 Old: 190\n",
            "total training images of 20:      190\n",
            "total training images of 200:     190\n",
            "total training images of 2000:    189\n",
            "total training images of 50 New:  190\n",
            "total training images of 50 Old:  190\n",
            "total training images of 500:     190\n"
          ]
        }
      ]
    },
    {
      "cell_type": "markdown",
      "metadata": {
        "id": "HOTRaHbQZIIW"
      },
      "source": []
    },
    {
      "cell_type": "code",
      "metadata": {
        "id": "u24Yw3LaT6Vq",
        "outputId": "65911f62-2c5e-4a37-ac82-b134bd0c8135",
        "colab": {
          "base_uri": "https://localhost:8080/"
        }
      },
      "source": [
        "to_create = [\n",
        "    '/tmp/indiancurrency',\n",
        "    '/tmp/indiancurrency/training',\n",
        "    '/tmp/indiancurrency/testing',\n",
        "    '/tmp/indiancurrency/training/10New',\n",
        "    '/tmp/indiancurrency/testing/10New',\n",
        "    '/tmp/indiancurrency/training/10Old',\n",
        "    '/tmp/indiancurrency/testing/10Old',\n",
        "    '/tmp/indiancurrency/training/100New',\n",
        "    '/tmp/indiancurrency/testing/100New',\n",
        "    '/tmp/indiancurrency/training/100Old',\n",
        "    '/tmp/indiancurrency/testing/100Old',\n",
        "    '/tmp/indiancurrency/training/20',\n",
        "    '/tmp/indiancurrency/testing/20',\n",
        "    '/tmp/indiancurrency/training/200',\n",
        "    '/tmp/indiancurrency/testing/200',\n",
        "    '/tmp/indiancurrency/training/2000',\n",
        "    '/tmp/indiancurrency/testing/2000',\n",
        "    '/tmp/indiancurrency/training/50New',\n",
        "    '/tmp/indiancurrency/testing/50New',\n",
        "    '/tmp/indiancurrency/training/50Old',\n",
        "    '/tmp/indiancurrency/testing/50Old',\n",
        "    '/tmp/indiancurrency/training/500',\n",
        "    '/tmp/indiancurrency/testing/500'\n",
        "]\n",
        "\n",
        "for directory in to_create:\n",
        "    try:\n",
        "        os.mkdir(directory)\n",
        "        print(directory, 'created')\n",
        "    except:\n",
        "        print(directory, 'failed')"
      ],
      "execution_count": 9,
      "outputs": [
        {
          "output_type": "stream",
          "name": "stdout",
          "text": [
            "/tmp/indiancurrency created\n",
            "/tmp/indiancurrency/training created\n",
            "/tmp/indiancurrency/testing created\n",
            "/tmp/indiancurrency/training/10New created\n",
            "/tmp/indiancurrency/testing/10New created\n",
            "/tmp/indiancurrency/training/10Old created\n",
            "/tmp/indiancurrency/testing/10Old created\n",
            "/tmp/indiancurrency/training/100New created\n",
            "/tmp/indiancurrency/testing/100New created\n",
            "/tmp/indiancurrency/training/100Old created\n",
            "/tmp/indiancurrency/testing/100Old created\n",
            "/tmp/indiancurrency/training/20 created\n",
            "/tmp/indiancurrency/testing/20 created\n",
            "/tmp/indiancurrency/training/200 created\n",
            "/tmp/indiancurrency/testing/200 created\n",
            "/tmp/indiancurrency/training/2000 created\n",
            "/tmp/indiancurrency/testing/2000 created\n",
            "/tmp/indiancurrency/training/50New created\n",
            "/tmp/indiancurrency/testing/50New created\n",
            "/tmp/indiancurrency/training/50Old created\n",
            "/tmp/indiancurrency/testing/50Old created\n",
            "/tmp/indiancurrency/training/500 created\n",
            "/tmp/indiancurrency/testing/500 created\n"
          ]
        }
      ]
    },
    {
      "cell_type": "code",
      "metadata": {
        "id": "pqkJQaJfUdtZ",
        "outputId": "bc0ac502-0a6a-4a8e-ed8d-1871bc08cbc3",
        "colab": {
          "base_uri": "https://localhost:8080/"
        }
      },
      "source": [
        "def split_data(SOURCE, TRAINING, TESTING, SPLIT_SIZE):\n",
        "    all_files = []\n",
        "    \n",
        "    for file_name in os.listdir(SOURCE):\n",
        "        file_path = SOURCE + file_name\n",
        "\n",
        "        if os.path.getsize(file_path):\n",
        "            all_files.append(file_name)\n",
        "        else:\n",
        "            print('{} is zero length, so ignoring'.format(file_name))\n",
        "    \n",
        "    n_files = len(all_files)\n",
        "    split_point = int(n_files * SPLIT_SIZE)\n",
        "    \n",
        "    shuffled = random.sample(all_files, n_files)\n",
        "    \n",
        "    train_set = shuffled[:split_point]\n",
        "    test_set = shuffled[split_point:]\n",
        "    \n",
        "    for file_name in train_set:\n",
        "        copyfile(SOURCE + file_name, TRAINING + file_name)\n",
        "        \n",
        "    for file_name in test_set:\n",
        "        copyfile(SOURCE + file_name, TESTING + file_name)\n",
        "\n",
        "split_size = .89\n",
        "\n",
        "NEW10_SOURCE_DIR = r\"/tmp/Thai and Indian Currency Dataset256x256/Indian Currencies/10 New/\"\n",
        "TRAINING_NEW10_DIR = r\"/tmp/indiancurrency/training/10New/\"\n",
        "TESTING_NEW10_DIR = r\"/tmp/indiancurrency/testing/10New/\"\n",
        "\n",
        "split_data(NEW10_SOURCE_DIR, TRAINING_NEW10_DIR, TESTING_NEW10_DIR, split_size)\n",
        "\n",
        "Old10_SOURCE_DIR = r\"/tmp/Thai and Indian Currency Dataset256x256/Indian Currencies/10 Old/\"\n",
        "TRAINING_OLD10_DIR = r\"/tmp/indiancurrency/training/10New/\"\n",
        "TESTING_OLD10_DIR = r\"/tmp/indiancurrency/testing/10New/\"\n",
        "\n",
        "split_data(Old10_SOURCE_DIR, TRAINING_OLD10_DIR, TESTING_OLD10_DIR, split_size)\n",
        "\n",
        "NEW100_SOURCE_DIR = r\"/tmp/Thai and Indian Currency Dataset256x256/Indian Currencies/100 New/\"\n",
        "TRAINING_NEW100_DIR = r\"/tmp/indiancurrency/training/100New/\"\n",
        "TESTING_NEW100_DIR = r\"/tmp/indiancurrency/testing/100New/\"\n",
        "\n",
        "split_data(NEW100_SOURCE_DIR, TRAINING_NEW100_DIR, TESTING_NEW100_DIR, split_size)\n",
        "\n",
        "OLD100_SOURCE_DIR = r\"/tmp/Thai and Indian Currency Dataset256x256/Indian Currencies/100 Old/\"\n",
        "TRAINING_OLD100_DIR = r\"/tmp/indiancurrency/training/100Old/\"\n",
        "TESTING_OLD100_DIR = r\"/tmp/indiancurrency/testing/100Old/\"\n",
        "\n",
        "split_data(OLD100_SOURCE_DIR, TRAINING_OLD100_DIR, TESTING_OLD100_DIR, split_size)\n",
        "\n",
        "NEW20_SOURCE_DIR = r\"/tmp/Thai and Indian Currency Dataset256x256/Indian Currencies/20/\"\n",
        "TRAINING_NEW20_DIR = r\"/tmp/indiancurrency/training/20/\"\n",
        "TESTING_NEW20_DIR = r\"/tmp/indiancurrency/testing/20/\"\n",
        "\n",
        "split_data(NEW20_SOURCE_DIR, TRAINING_NEW20_DIR, TESTING_NEW20_DIR, split_size)\n",
        "\n",
        "NEW200_SOURCE_DIR = r\"/tmp/Thai and Indian Currency Dataset256x256/Indian Currencies/200/\"\n",
        "TRAINING_NEW200_DIR = r\"/tmp/indiancurrency/training/200/\"\n",
        "TESTING_NEW200_DIR = r\"/tmp/indiancurrency/testing/200/\"\n",
        "\n",
        "split_data(NEW200_SOURCE_DIR, TRAINING_NEW200_DIR, TESTING_NEW200_DIR, split_size)\n",
        "\n",
        "NEW2000_SOURCE_DIR = r\"/tmp/Thai and Indian Currency Dataset256x256/Indian Currencies/2000/\"\n",
        "TRAINING_NEW2000_DIR = r\"/tmp/indiancurrency/training/2000/\"\n",
        "TESTING_NEW2000_DIR = r\"/tmp/indiancurrency/testing/2000/\"\n",
        "\n",
        "split_data(NEW2000_SOURCE_DIR, TRAINING_NEW2000_DIR, TESTING_NEW2000_DIR, split_size)\n",
        "\n",
        "NEW50_SOURCE_DIR = r\"/tmp/Thai and Indian Currency Dataset256x256/Indian Currencies/50 New/\"\n",
        "TRAINING_NEW50_DIR = r\"/tmp/indiancurrency/training/50New/\"\n",
        "TESTING_NEW50_DIR = r\"/tmp/indiancurrency/testing/50New/\"\n",
        "\n",
        "split_data(NEW50_SOURCE_DIR, TRAINING_NEW50_DIR, TESTING_NEW50_DIR, split_size)\n",
        "\n",
        "OLD50_SOURCE_DIR = r\"/tmp/Thai and Indian Currency Dataset256x256/Indian Currencies/50 Old/\"\n",
        "TRAINING_OLD50_DIR = r\"/tmp/indiancurrency/training/50Old/\"\n",
        "TESTING_OLD50_DIR = r\"/tmp/indiancurrency/testing/50Old/\"\n",
        "\n",
        "split_data(OLD50_SOURCE_DIR, TRAINING_OLD50_DIR, TESTING_OLD50_DIR, split_size)\n",
        "\n",
        "NEW500_SOURCE_DIR = r\"/tmp/Thai and Indian Currency Dataset256x256/Indian Currencies/500/\"\n",
        "TRAINING_NEW500_DIR = r\"/tmp/indiancurrency/training/500/\"\n",
        "TESTING_NEW500_DIR = r\"/tmp/indiancurrency/testing/500/\"\n",
        "\n",
        "split_data(NEW500_SOURCE_DIR, TRAINING_NEW500_DIR, TESTING_NEW500_DIR, split_size)\n",
        "\n",
        "print(len(os.listdir(TRAINING_NEW10_DIR)))\n",
        "print(len(os.listdir(TESTING_NEW10_DIR)))\n",
        "\n",
        "print(len(os.listdir(TRAINING_OLD10_DIR)))\n",
        "print(len(os.listdir(TESTING_OLD10_DIR)))\n",
        "\n",
        "print(len(os.listdir(TRAINING_NEW100_DIR)))\n",
        "print(len(os.listdir(TESTING_NEW100_DIR)))\n",
        "\n",
        "print(len(os.listdir(TRAINING_OLD100_DIR)))\n",
        "print(len(os.listdir(TESTING_OLD100_DIR)))\n",
        "\n",
        "print(len(os.listdir(TRAINING_NEW20_DIR)))\n",
        "print(len(os.listdir(TESTING_NEW20_DIR)))\n",
        "\n",
        "print(len(os.listdir(TRAINING_NEW200_DIR)))\n",
        "print(len(os.listdir(TESTING_NEW200_DIR)))\n",
        "\n",
        "print(len(os.listdir(TRAINING_NEW2000_DIR)))\n",
        "print(len(os.listdir(TESTING_NEW2000_DIR)))\n",
        "\n",
        "print(len(os.listdir(TRAINING_NEW50_DIR)))\n",
        "print(len(os.listdir(TESTING_NEW50_DIR)))\n",
        "\n",
        "print(len(os.listdir(TRAINING_OLD50_DIR)))\n",
        "print(len(os.listdir(TESTING_OLD50_DIR)))\n",
        "\n",
        "print(len(os.listdir(TRAINING_NEW500_DIR)))\n",
        "print(len(os.listdir(TESTING_NEW500_DIR)))\n",
        "\n",
        "\n"
      ],
      "execution_count": 93,
      "outputs": [
        {
          "output_type": "stream",
          "name": "stdout",
          "text": [
            "440\n",
            "332\n",
            "440\n",
            "332\n",
            "190\n",
            "160\n",
            "190\n",
            "148\n",
            "190\n",
            "152\n",
            "190\n",
            "148\n",
            "189\n",
            "154\n",
            "190\n",
            "142\n",
            "190\n",
            "150\n",
            "190\n",
            "147\n"
          ]
        }
      ]
    },
    {
      "cell_type": "code",
      "metadata": {
        "id": "KpdELB-ZZIYC"
      },
      "source": [
        "\n",
        "class myCallback(tf.keras.callbacks.Callback):\n",
        "  def on_epoch_end(self, epoch, logs={}):\n",
        "    if(logs.get('accuracy')>0.65):\n",
        "      print(\"\\nReached 70% accuracy so cancelling training!\")\n",
        "      self.model.stop_training = True\n",
        "\n",
        "callbacks = myCallback()\n",
        "\n",
        "model = tf.keras.models.Sequential([\n",
        "\n",
        "    # This is the first convolution\n",
        "    tf.keras.layers.Conv2D(32, (3,3), activation='relu', input_shape=(256, 256, 3)),\n",
        "    tf.keras.layers.MaxPooling2D(2, 2),\n",
        "    # The second convolution\n",
        "    tf.keras.layers.Conv2D(32, (3,3), activation='relu'),\n",
        "    tf.keras.layers.MaxPooling2D(2,2),\n",
        "    # The third convolution\n",
        "    tf.keras.layers.Conv2D(32, (3,3), activation='relu'),\n",
        "    tf.keras.layers.MaxPooling2D(2,2),\n",
        "    # Flatten the results to feed into a DNN\n",
        "    tf.keras.layers.Flatten(),\n",
        "    # 512 neuron hidden layer\n",
        "    tf.keras.layers.Dense(512, activation='relu'),\n",
        "    tf.keras.layers.Dense(10, activation='softmax')\n",
        "])"
      ],
      "execution_count": 94,
      "outputs": []
    },
    {
      "cell_type": "markdown",
      "metadata": {
        "id": "Fl04tgKpZOHM"
      },
      "source": []
    },
    {
      "cell_type": "code",
      "metadata": {
        "id": "7DggEe7QZOXg",
        "outputId": "0323a762-5a00-4b53-b3da-682f83b9f585",
        "colab": {
          "base_uri": "https://localhost:8080/"
        }
      },
      "source": [
        "model.summary()"
      ],
      "execution_count": 95,
      "outputs": [
        {
          "output_type": "stream",
          "name": "stdout",
          "text": [
            "Model: \"sequential_13\"\n",
            "_________________________________________________________________\n",
            " Layer (type)                Output Shape              Param #   \n",
            "=================================================================\n",
            " conv2d_39 (Conv2D)          (None, 254, 254, 32)      896       \n",
            "                                                                 \n",
            " max_pooling2d_39 (MaxPoolin  (None, 127, 127, 32)     0         \n",
            " g2D)                                                            \n",
            "                                                                 \n",
            " conv2d_40 (Conv2D)          (None, 125, 125, 32)      9248      \n",
            "                                                                 \n",
            " max_pooling2d_40 (MaxPoolin  (None, 62, 62, 32)       0         \n",
            " g2D)                                                            \n",
            "                                                                 \n",
            " conv2d_41 (Conv2D)          (None, 60, 60, 32)        9248      \n",
            "                                                                 \n",
            " max_pooling2d_41 (MaxPoolin  (None, 30, 30, 32)       0         \n",
            " g2D)                                                            \n",
            "                                                                 \n",
            " flatten_13 (Flatten)        (None, 28800)             0         \n",
            "                                                                 \n",
            " dense_26 (Dense)            (None, 512)               14746112  \n",
            "                                                                 \n",
            " dense_27 (Dense)            (None, 10)                5130      \n",
            "                                                                 \n",
            "=================================================================\n",
            "Total params: 14,770,634\n",
            "Trainable params: 14,770,634\n",
            "Non-trainable params: 0\n",
            "_________________________________________________________________\n"
          ]
        }
      ]
    },
    {
      "cell_type": "markdown",
      "metadata": {
        "id": "vMbjWy1JZQc0"
      },
      "source": []
    },
    {
      "cell_type": "code",
      "metadata": {
        "id": "6zvATy1zZQ24"
      },
      "source": [
        "model.compile(loss = 'categorical_crossentropy', optimizer='rmsprop', metrics=['accuracy'])\n",
        "#model.compile(optimizer='adam', loss='categorical_crossentropy', metrics=['accuracy'])"
      ],
      "execution_count": 96,
      "outputs": []
    },
    {
      "cell_type": "markdown",
      "metadata": {
        "id": "b03gfS8_Zi4V"
      },
      "source": []
    },
    {
      "cell_type": "code",
      "metadata": {
        "id": "4kGimKM-ZjKw"
      },
      "source": [
        "\n",
        "train_datagen = ImageDataGenerator(\n",
        "      rescale=1./255,\n",
        "      rotation_range=90,\n",
        "      width_shift_range=0.2,\n",
        "      height_shift_range=0.2,\n",
        "      shear_range=0.2,\n",
        "      zoom_range=0.2,\n",
        "      horizontal_flip=True,\n",
        "      fill_mode='nearest')"
      ],
      "execution_count": 97,
      "outputs": []
    },
    {
      "cell_type": "markdown",
      "metadata": {
        "id": "8Ghtpu7OZ1GT"
      },
      "source": []
    },
    {
      "cell_type": "code",
      "metadata": {
        "id": "hcm9d635Z1Y4",
        "outputId": "65c4d34b-4e57-492d-d8f7-e3209e65f913",
        "colab": {
          "base_uri": "https://localhost:8080/"
        }
      },
      "source": [
        "TRAINING_DIR = '/tmp/indiancurrency/training/'\n",
        "#train_datagen = ImageDataGenerator(rescale= 1/255)\n",
        "train_generator = train_datagen.flow_from_directory(\n",
        "    TRAINING_DIR,\n",
        "    batch_size=64,\n",
        "    class_mode='categorical',\n",
        "    target_size=(256, 256)\n",
        ")\n",
        "\n",
        "VALIDATION_DIR = '/tmp/indiancurrency/testing/'\n",
        "validation_datagen = ImageDataGenerator(rescale= 1/255)\n",
        "validation_generator = validation_datagen.flow_from_directory(\n",
        "    VALIDATION_DIR,\n",
        "    batch_size=64,\n",
        "    class_mode='categorical',\n",
        "    target_size=(256, 256)\n",
        ")"
      ],
      "execution_count": 98,
      "outputs": [
        {
          "output_type": "stream",
          "name": "stdout",
          "text": [
            "Found 1959 images belonging to 10 classes.\n",
            "Found 1533 images belonging to 10 classes.\n"
          ]
        }
      ]
    },
    {
      "cell_type": "markdown",
      "metadata": {
        "id": "y5laDwzOaG3_"
      },
      "source": []
    },
    {
      "cell_type": "code",
      "metadata": {
        "id": "FkpXL5VOaHNV",
        "outputId": "5850f209-0a2b-44ad-ed11-d8dbc00b13bc",
        "colab": {
          "base_uri": "https://localhost:8080/"
        }
      },
      "source": [
        "history = model.fit(\n",
        "      train_generator,\n",
        "      batch_size=64,\n",
        "      epochs=20,  \n",
        "      verbose=1,\n",
        "      validation_data=validation_generator,\n",
        "      callbacks=[callbacks])"
      ],
      "execution_count": 99,
      "outputs": [
        {
          "output_type": "stream",
          "name": "stdout",
          "text": [
            "Epoch 1/20\n",
            "31/31 [==============================] - 31s 968ms/step - loss: 3.4568 - accuracy: 0.1766 - val_loss: 2.2004 - val_accuracy: 0.1083\n",
            "Epoch 2/20\n",
            "31/31 [==============================] - 29s 943ms/step - loss: 2.1619 - accuracy: 0.2037 - val_loss: 2.0173 - val_accuracy: 0.2231\n",
            "Epoch 3/20\n",
            "31/31 [==============================] - 29s 950ms/step - loss: 2.0434 - accuracy: 0.2542 - val_loss: 1.8468 - val_accuracy: 0.2701\n",
            "Epoch 4/20\n",
            "31/31 [==============================] - 29s 943ms/step - loss: 2.0275 - accuracy: 0.2644 - val_loss: 1.7505 - val_accuracy: 0.3131\n",
            "Epoch 5/20\n",
            "31/31 [==============================] - 31s 989ms/step - loss: 1.9909 - accuracy: 0.2695 - val_loss: 1.6439 - val_accuracy: 0.3718\n",
            "Epoch 6/20\n",
            "31/31 [==============================] - 29s 945ms/step - loss: 1.7995 - accuracy: 0.3486 - val_loss: 1.9960 - val_accuracy: 0.2720\n",
            "Epoch 7/20\n",
            "31/31 [==============================] - 29s 950ms/step - loss: 1.7034 - accuracy: 0.3701 - val_loss: 1.7456 - val_accuracy: 0.2909\n",
            "Epoch 8/20\n",
            "31/31 [==============================] - 29s 952ms/step - loss: 1.7013 - accuracy: 0.3977 - val_loss: 1.1761 - val_accuracy: 0.5903\n",
            "Epoch 9/20\n",
            "31/31 [==============================] - 29s 946ms/step - loss: 1.5367 - accuracy: 0.4431 - val_loss: 1.3826 - val_accuracy: 0.5016\n",
            "Epoch 10/20\n",
            "31/31 [==============================] - 29s 949ms/step - loss: 1.5170 - accuracy: 0.4640 - val_loss: 1.3323 - val_accuracy: 0.5251\n",
            "Epoch 11/20\n",
            "31/31 [==============================] - 31s 988ms/step - loss: 1.2777 - accuracy: 0.5227 - val_loss: 0.8014 - val_accuracy: 0.6973\n",
            "Epoch 12/20\n",
            "31/31 [==============================] - 29s 946ms/step - loss: 1.5746 - accuracy: 0.5008 - val_loss: 0.8961 - val_accuracy: 0.6608\n",
            "Epoch 13/20\n",
            "31/31 [==============================] - 29s 944ms/step - loss: 1.0847 - accuracy: 0.6075 - val_loss: 0.7579 - val_accuracy: 0.7247\n",
            "Epoch 14/20\n",
            "31/31 [==============================] - 30s 953ms/step - loss: 1.1847 - accuracy: 0.5758 - val_loss: 1.0419 - val_accuracy: 0.6491\n",
            "Epoch 15/20\n",
            "31/31 [==============================] - 29s 951ms/step - loss: 1.0394 - accuracy: 0.6243 - val_loss: 0.5745 - val_accuracy: 0.8010\n",
            "Epoch 16/20\n",
            "31/31 [==============================] - 31s 996ms/step - loss: 1.0619 - accuracy: 0.6309 - val_loss: 0.9175 - val_accuracy: 0.6171\n",
            "Epoch 17/20\n",
            "31/31 [==============================] - 30s 956ms/step - loss: 1.0260 - accuracy: 0.6314 - val_loss: 0.7194 - val_accuracy: 0.7326\n",
            "Epoch 18/20\n",
            "31/31 [==============================] - ETA: 0s - loss: 0.9015 - accuracy: 0.6794\n",
            "Reached 70% accuracy so cancelling training!\n",
            "31/31 [==============================] - 32s 1s/step - loss: 0.9015 - accuracy: 0.6794 - val_loss: 0.4686 - val_accuracy: 0.8330\n"
          ]
        }
      ]
    },
    {
      "cell_type": "markdown",
      "metadata": {
        "id": "llM6aJV1NjtQ"
      },
      "source": [
        "Plotting loss and accuracy."
      ]
    },
    {
      "cell_type": "code",
      "metadata": {
        "id": "0qLzcUp1NkDq",
        "outputId": "ae53b1ba-b72e-4d46-a339-71cfd6663d41",
        "colab": {
          "base_uri": "https://localhost:8080/",
          "height": 545
        }
      },
      "source": [
        "import matplotlib.pyplot as plt\n",
        "acc = history.history['accuracy']\n",
        "val_acc = history.history['val_accuracy']\n",
        "loss = history.history['loss']\n",
        "val_loss = history.history['val_loss']\n",
        "\n",
        "epochs = range(len(acc))\n",
        "\n",
        "plt.plot(epochs, acc, 'r', label='Training accuracy')\n",
        "plt.plot(epochs, val_acc, 'b', label='Validation accuracy')\n",
        "plt.title('Training and validation accuracy')\n",
        "\n",
        "plt.figure()\n",
        "\n",
        "plt.plot(epochs, loss, 'r', label='Training Loss')\n",
        "plt.plot(epochs, val_loss, 'b', label='Validation Loss')\n",
        "plt.title('Training and validation loss')\n",
        "plt.legend()\n",
        "\n",
        "plt.show()"
      ],
      "execution_count": 100,
      "outputs": [
        {
          "output_type": "display_data",
          "data": {
            "text/plain": [
              "<Figure size 432x288 with 1 Axes>"
            ],
            "image/png": "[encoded data removed]"
          },
          "metadata": {
            "needs_background": "light"
          }
        },
        {
          "output_type": "display_data",
          "data": {
            "text/plain": [
              "<Figure size 432x288 with 1 Axes>"
            ],
            "image/png": "[encoded data removed]"
          },
          "metadata": {
            "needs_background": "light"
          }
        }
      ]
    },
    {
      "cell_type": "markdown",
      "metadata": {
        "id": "-wnt_PHhNVDH"
      },
      "source": [
        "Predicting with new images."
      ]
    },
    {
      "cell_type": "code",
      "metadata": {
        "id": "HaOHs9-iNVb7",
        "outputId": "28271fc6-57c0-4e1f-8a6b-3669dbae6cde",
        "colab": {
          "resources": {
            "http://localhost:8080/nbextensions/google.colab/files.js": {
              "data": "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",
              "ok": true,
              "headers": [
                [
                  "content-type",
                  "application/javascript"
                ]
              ],
              "status": 200,
              "status_text": ""
            }
          },
          "base_uri": "https://localhost:8080/",
          "height": 89
        }
      },
      "source": [
        "import numpy as np\n",
        "from google.colab import files\n",
        "from keras.preprocessing import image\n",
        "\n",
        "uploaded = files.upload()\n",
        "\n",
        "for fn in uploaded.keys():\n",
        " \n",
        "  # predicting images\n",
        "  path = fn\n",
        "  img = image.load_img(path, target_size=(256, 256))\n",
        "  x = image.img_to_array(img)\n",
        "  x = np.expand_dims(x, axis=0)\n",
        "\n",
        "  images = np.vstack([x])\n",
        "\n",
        "  #predictions = model.predict(images,batch_size=32)\n",
        "  #class_names = ['10RsNote', '10RsNote', '100RsNote', '100RsNote','20RsNote','200RsNote', '2000RsNote','50RsNote','50RsNote','500RsNote']\n",
        "  #print(model.predict_classes())\n",
        "  print(np.argmax(model.predict(images), axis=-1))"
      ],
      "execution_count": null,
      "outputs": [
        {
          "output_type": "display_data",
          "data": {
            "text/html": [
              "\n",
              "     <input type=\"file\" id=\"files-f56701f2-17d0-4d5d-bdb2-0a8ba8fbd31c\" name=\"files[]\" multiple disabled\n",
              "        style=\"border:none\" />\n",
              "     <output id=\"result-f56701f2-17d0-4d5d-bdb2-0a8ba8fbd31c\">\n",
              "      Upload widget is only available when the cell has been executed in the\n",
              "      current browser session. Please rerun this cell to enable.\n",
              "      </output>\n",
              "      <script src=\"/nbextensions/google.colab/files.js\"></script> "
            ],
            "text/plain": [
              "<IPython.core.display.HTML object>"
            ]
          },
          "metadata": {
            "tags": []
          }
        },
        {
          "output_type": "stream",
          "text": [
            "Saving IMG20200925125439.jpg to IMG20200925125439.jpg\n",
            "[0]\n"
          ],
          "name": "stdout"
        }
      ]
    },
    {
      "cell_type": "markdown",
      "metadata": {
        "id": "DMDfWDtkDSVU"
      },
      "source": [
        "Export the model\n"
      ]
    },
    {
      "cell_type": "code",
      "metadata": {
        "id": "yglkVaQTDWaS",
        "outputId": "e710e0ab-5c99-4f9b-e114-4ccd3e40b95f",
        "colab": {
          "base_uri": "https://localhost:8080/"
        }
      },
      "source": [
        "INDIAN_CURRENCY_SAVED_MODEL = \"exp_saved_model\"\n",
        "tf.saved_model.save(model, INDIAN_CURRENCY_SAVED_MODEL)\n",
        "loaded = tf.saved_model.load(INDIAN_CURRENCY_SAVED_MODEL)\n",
        "print(list(loaded.signatures.keys()))\n",
        "infer = loaded.signatures[\"serving_default\"]\n",
        "print(infer.structured_input_signature)\n",
        "print(infer.structured_outputs)"
      ],
      "execution_count": null,
      "outputs": [
        {
          "output_type": "stream",
          "text": [
            "WARNING:tensorflow:From /usr/local/lib/python3.6/dist-packages/tensorflow/python/training/tracking/tracking.py:111: Model.state_updates (from tensorflow.python.keras.engine.training) is deprecated and will be removed in a future version.\n",
            "Instructions for updating:\n",
            "This property should not be used in TensorFlow 2.0, as updates are applied automatically.\n",
            "WARNING:tensorflow:From /usr/local/lib/python3.6/dist-packages/tensorflow/python/training/tracking/tracking.py:111: Layer.updates (from tensorflow.python.keras.engine.base_layer) is deprecated and will be removed in a future version.\n",
            "Instructions for updating:\n",
            "This property should not be used in TensorFlow 2.0, as updates are applied automatically.\n",
            "INFO:tensorflow:Assets written to: exp_saved_model/assets\n",
            "['serving_default']\n",
            "((), {'conv2d_input': TensorSpec(shape=(None, 256, 256, 3), dtype=tf.float32, name='conv2d_input')})\n",
            "{'dense_1': TensorSpec(shape=(None, 10), dtype=tf.float32, name='dense_1')}\n"
          ],
          "name": "stdout"
        }
      ]
    },
    {
      "cell_type": "markdown",
      "metadata": {
        "id": "ij0uwP73D-6c"
      },
      "source": [
        "Convert using TFLite's converter"
      ]
    },
    {
      "cell_type": "code",
      "metadata": {
        "id": "i6381dvsECyA"
      },
      "source": [
        "converter = tf.lite.TFLiteConverter.from_saved_model(INDIAN_CURRENCY_SAVED_MODEL)\n",
        "converter.optimizations = [tf.lite.Optimize.DEFAULT]\n",
        "\n",
        "tflite_model = converter.convert()\n",
        "tflite_model_file = 'converted_model.tflite'\n",
        "\n",
        "with open(tflite_model_file, \"wb\") as f:\n",
        "    f.write(tflite_model)"
      ],
      "execution_count": null,
      "outputs": []
    },
    {
      "cell_type": "markdown",
      "metadata": {
        "id": "PSJE65TmGiHB"
      },
      "source": [
        "CREATING LABEL.TXT"
      ]
    },
    {
      "cell_type": "code",
      "metadata": {
        "id": "EKPyCRhcGj9B"
      },
      "source": [
        "labels = ['10 Rupees', 'Rupees 10','100 Rupees','Rupees 100','20 Rupees','200 Rupees','2000 Rupees','50 Rupees','Rupees 50','500 Rupees']\n",
        "\n",
        "with open('labels.txt', 'w') as f:\n",
        "    f.write('\\n'.join(labels))"
      ],
      "execution_count": null,
      "outputs": []
    },
    {
      "cell_type": "markdown",
      "metadata": {
        "id": "MIjUgiBxHGXF"
      },
      "source": [
        "Downloading files"
      ]
    },
    {
      "cell_type": "code",
      "metadata": {
        "id": "S5xE4vLyHH3_",
        "outputId": "d11f04a9-75f4-4e0c-c79f-0fbb6774c56a",
        "colab": {
          "base_uri": "https://localhost:8080/",
          "height": 17
        }
      },
      "source": [
        "\n",
        "try:\n",
        "    from google.colab import files\n",
        "    files.download('converted_model.tflite')\n",
        "    files.download('labels.txt')\n",
        "except:\n",
        "    pass"
      ],
      "execution_count": null,
      "outputs": [
        {
          "output_type": "display_data",
          "data": {
            "application/javascript": [
              "\n",
              "    async function download(id, filename, size) {\n",
              "      if (!google.colab.kernel.accessAllowed) {\n",
              "        return;\n",
              "      }\n",
              "      const div = document.createElement('div');\n",
              "      const label = document.createElement('label');\n",
              "      label.textContent = `Downloading \"${filename}\": `;\n",
              "      div.appendChild(label);\n",
              "      const progress = document.createElement('progress');\n",
              "      progress.max = size;\n",
              "      div.appendChild(progress);\n",
              "      document.body.appendChild(div);\n",
              "\n",
              "      const buffers = [];\n",
              "      let downloaded = 0;\n",
              "\n",
              "      const channel = await google.colab.kernel.comms.open(id);\n",
              "      // Send a message to notify the kernel that we're ready.\n",
              "      channel.send({})\n",
              "\n",
              "      for await (const message of channel.messages) {\n",
              "        // Send a message to notify the kernel that we're ready.\n",
              "        channel.send({})\n",
              "        if (message.buffers) {\n",
              "          for (const buffer of message.buffers) {\n",
              "            buffers.push(buffer);\n",
              "            downloaded += buffer.byteLength;\n",
              "            progress.value = downloaded;\n",
              "          }\n",
              "        }\n",
              "      }\n",
              "      const blob = new Blob(buffers, {type: 'application/binary'});\n",
              "      const a = document.createElement('a');\n",
              "      a.href = window.URL.createObjectURL(blob);\n",
              "      a.download = filename;\n",
              "      div.appendChild(a);\n",
              "      a.click();\n",
              "      div.remove();\n",
              "    }\n",
              "  "
            ],
            "text/plain": [
              "<IPython.core.display.Javascript object>"
            ]
          },
          "metadata": {
            "tags": []
          }
        },
        {
          "output_type": "display_data",
          "data": {
            "application/javascript": [
              "download(\"download_c5264574-6ef1-47b0-89d4-9d1421391afb\", \"converted_model.tflite\", 14780064)"
            ],
            "text/plain": [
              "<IPython.core.display.Javascript object>"
            ]
          },
          "metadata": {
            "tags": []
          }
        },
        {
          "output_type": "display_data",
          "data": {
            "application/javascript": [
              "\n",
              "    async function download(id, filename, size) {\n",
              "      if (!google.colab.kernel.accessAllowed) {\n",
              "        return;\n",
              "      }\n",
              "      const div = document.createElement('div');\n",
              "      const label = document.createElement('label');\n",
              "      label.textContent = `Downloading \"${filename}\": `;\n",
              "      div.appendChild(label);\n",
              "      const progress = document.createElement('progress');\n",
              "      progress.max = size;\n",
              "      div.appendChild(progress);\n",
              "      document.body.appendChild(div);\n",
              "\n",
              "      const buffers = [];\n",
              "      let downloaded = 0;\n",
              "\n",
              "      const channel = await google.colab.kernel.comms.open(id);\n",
              "      // Send a message to notify the kernel that we're ready.\n",
              "      channel.send({})\n",
              "\n",
              "      for await (const message of channel.messages) {\n",
              "        // Send a message to notify the kernel that we're ready.\n",
              "        channel.send({})\n",
              "        if (message.buffers) {\n",
              "          for (const buffer of message.buffers) {\n",
              "            buffers.push(buffer);\n",
              "            downloaded += buffer.byteLength;\n",
              "            progress.value = downloaded;\n",
              "          }\n",
              "        }\n",
              "      }\n",
              "      const blob = new Blob(buffers, {type: 'application/binary'});\n",
              "      const a = document.createElement('a');\n",
              "      a.href = window.URL.createObjectURL(blob);\n",
              "      a.download = filename;\n",
              "      div.appendChild(a);\n",
              "      a.click();\n",
              "      div.remove();\n",
              "    }\n",
              "  "
            ],
            "text/plain": [
              "<IPython.core.display.Javascript object>"
            ]
          },
          "metadata": {
            "tags": []
          }
        },
        {
          "output_type": "display_data",
          "data": {
            "application/javascript": [
              "download(\"download_d00d7525-3f5b-44f5-881d-bd7b005dca84\", \"labels.txt\", 105)"
            ],
            "text/plain": [
              "<IPython.core.display.Javascript object>"
            ]
          },
          "metadata": {
            "tags": []
          }
        }
      ]
    }
  ]
}